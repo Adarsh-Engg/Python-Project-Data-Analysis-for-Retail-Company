{
 "cells": [
  {
   "cell_type": "markdown",
   "id": "9d91fa64-4c1f-4398-8271-f50d7b5ddeff",
   "metadata": {},
   "source": [
    " Project Overview:\n",
    "\n",
    "XYZ Retail Company, a leading retailer in the industry, is looking to enhance its data analysis capabilities. To do this, they are developing a suite of Python-based tools to analyze their business data effectively. As a junior data scientist, your task is to create and implement various Python codes to solve basic data science problems related to their operations.\n",
    "\n",
    " \n",
    "\n",
    "Task 1: Sales Data Summary\n",
    "\n",
    "Objective: XYZ Retail wants to automate the process of calculating basic sales metrics.\n",
    "\n",
    "Ø Assign the number of units sold in two categories, `Category A` and `Category B`, to variables.\n",
    "\n",
    "Ø Calculate the total units sold, the difference between the categories, and the ratio of units sold.\n",
    "\n",
    "Ø Print these results clearly for the management team.\n",
    "\n",
    " \n",
    "\n",
    "· Sample Input -\n",
    "\n",
    "         Category A: 150 units             Category B: 120 units\n",
    "\n",
    "· Sample Output -\n",
    "\n",
    "          Sales Data Summary:\n",
    "\n",
    "           Total Units Sold: 270\n",
    "\n",
    "           Difference Between Categories: 30\n",
    "\n",
    "           Ratio of Category A to Category B: 1.25"
   ]
  },
  {
   "cell_type": "code",
   "execution_count": 21,
   "id": "0b39190e-7e2b-440a-8fee-500d581097e7",
   "metadata": {},
   "outputs": [
    {
     "name": "stdout",
     "output_type": "stream",
     "text": [
      "\n",
      " Sales Data Summary: \n",
      "\n",
      " Total Unit Sold : 270\n",
      "\n",
      " Difference Between Categories :30\n",
      "\n",
      " Ratio of Category A to Category B: 1.25\n"
     ]
    }
   ],
   "source": [
    "#Assigning the number of units sold in two categories\n",
    "Category_A= 150 \n",
    "Category_B= 120 \n",
    "\n",
    "#Calculate the total units sold by adding\n",
    "Total_Unit_Sold = Category_A + Category_B\n",
    "\n",
    "#Getting the difference between the categories by substraction\n",
    "Difference_Between_Categories = Category_A - Category_B\n",
    "\n",
    "#Getting ratio by dividing respective categories\n",
    "Ratio = (Category_A/Category_B)\n",
    "\n",
    "# Printing all the ouput as desired\n",
    "\n",
    "print(\"\\n Sales Data Summary: \")\n",
    "print(f\"\\n Total Unit Sold : {Total_Unit_Sold}\")\n",
    "print(f\"\\n Difference Between Categories :{Difference_Between_Categories}\")\n",
    "print(f\"\\n Ratio of Category A to Category B: {Ratio}\")\n"
   ]
  },
  {
   "cell_type": "markdown",
   "id": "22cf2f3c-1c0b-46b7-9e45-963644556c6d",
   "metadata": {},
   "source": [
    "Task 2: Customer Age Data\n",
    "\n",
    "Objective: Understanding the age distribution of customers is crucial for marketing strategies.\n",
    "\n",
    "Ø Store a customer's name and age.\n",
    "\n",
    "Ø Convert the age into a string and create a personalized marketing message like \"Dear John Doe, at 30, you’re eligible for our premium loyalty program.\"\n",
    "\n",
    "   - Print the message for use in email campaigns.\n",
    "\n",
    "· Sample Input -\n",
    "\n",
    "         Customer Name: John Doe         Customer Age: 30     "
   ]
  },
  {
   "cell_type": "code",
   "execution_count": 19,
   "id": "27ee8853-ebf4-4ed4-83bb-62191c189682",
   "metadata": {},
   "outputs": [
    {
     "name": "stdout",
     "output_type": "stream",
     "text": [
      " Dear John Doe, at 30, you’re eligible for our premium loyalty program.\n"
     ]
    }
   ],
   "source": [
    "#Storing  customer's name and age\n",
    "Customer_Name= \"John Doe\"\n",
    "Customer_Age= 30\n",
    "#now printing the desired ouput , also converting age integer into string\n",
    "print(f\" Dear {Customer_Name}, at {str(Customer_Age)}, you’re eligible for our premium loyalty program.\")\n"
   ]
  },
  {
   "cell_type": "markdown",
   "id": "c4803146-56fc-4063-b778-6c309b4e44de",
   "metadata": {},
   "source": []
  },
  {
   "cell_type": "markdown",
   "id": "23f13c47-84e3-4421-aa6d-59a09c6775ca",
   "metadata": {},
   "source": [
    "Task 3: Product List Management\n",
    "\n",
    "Objective: Efficient management of the product list is essential for inventory control.\n",
    "\n",
    "Ø Given a list of product prices, extract the highest and lowest prices.\n",
    "\n",
    "Ø Create a new list with the mid-range products.\n",
    "\n",
    "Ø Add a new premium product price to the list and print the updated list for the inventory team.\n",
    "\n",
    " \n",
    "\n",
    "· Sample Input\n",
    "\n",
    "         product_prices = [50, 120, 30, 200, 90, 150, 180]\n",
    "\n",
    "          premium_product_price = 250\n",
    "\n",
    "· Sample Output\n",
    "\n",
    "          Highest Price: 200\n",
    "\n",
    "          Lowest Price: 30                                 \n",
    "\n",
    "          Mid-Range Products: [50, 120, 90, 150, 180]\n",
    "\n",
    "          Updated Product List with Premium Price: [50, 120, 30, 200, 90, 150, 180, 250]  "
   ]
  },
  {
   "cell_type": "code",
   "execution_count": 93,
   "id": "0d10ea24-b19f-4164-acb8-cd505a16fa8f",
   "metadata": {},
   "outputs": [
    {
     "name": "stdout",
     "output_type": "stream",
     "text": [
      "\n",
      " Highest Price: 200\n",
      "\n",
      " Lowest Price: 30\n",
      "\n",
      " Mid Range Products : [50, 120, 90, 150, 180]\n",
      "\n",
      " Updated Product List with Premium Price: [50, 120, 30, 200, 90, 150, 180, 250]\n"
     ]
    }
   ],
   "source": [
    "product_prices = [50, 120, 30, 200, 90, 150, 180]\n",
    "premium_product_price = 250\n",
    "\n",
    "\n",
    "#new list in ascending order\n",
    "New_product_list = sorted(product_prices)\n",
    "#print(New_product_list)\n",
    "#since we sorted the list in ascending order now we can check first (  lowest) and last values (highest) using idex\n",
    "Highest_Price=New_product_list[-1]\n",
    "Lowest_Price=New_product_list[0]\n",
    "\n",
    "print (f\"\\n Highest Price: {Highest_Price}\")\n",
    "print(f\"\\n Lowest Price: {Lowest_Price}\")\n",
    "\n",
    "# We can also do it using max & min Function\n",
    "#Highest_price = max(product_prices)\n",
    "#Lowest_price = min(product_prices)\n",
    "\n",
    "#using slicing by giving index range removing first and last\n",
    "#Mid_Range_Products= New_product_list[1:-1] \n",
    "#print(f\"\\n Mid Range Products : {Mid_Range_Products}\")\n",
    "\n",
    "#using list comprehension where highest and lowest prices are not included [ epression for intem in iterable if condition]\n",
    "Mid_Range_Products= [price for price in product_prices if price != Highest_Price and price != Lowest_Price]\n",
    "print(f\"\\n Mid Range Products : {Mid_Range_Products}\")\n",
    "\n",
    "# Add the new premium product price to the list\n",
    "updated_product_list = product_prices + [premium_product_price]\n",
    "print(f\"\\n Updated Product List with Premium Price: {updated_product_list}\")"
   ]
  },
  {
   "cell_type": "raw",
   "id": "364a62fb-7947-41cd-b2bc-7eddda701fe8",
   "metadata": {},
   "source": []
  },
  {
   "cell_type": "markdown",
   "id": "80827f89-7460-4df7-a25e-629a92827e6a",
   "metadata": {},
   "source": [
    "Objective: Quick access to product details is important for customer service representatives.\n",
    "\n",
    "Ø Create a dictionary storing key information about a product (e.g., `product_name`, `SKU`, `price`, `category`).\n",
    "\n",
    "Ø Print the product name and SKU when queried by a customer service representative.\n",
    "\n",
    " \n",
    "\n",
    "· Sample Input\n",
    "\n",
    "product_info = { \"product_name\": \"Wireless Mouse\", \"SKU\": \"WM-12345\", \"price\": 25.99, \"category\": \"Electronics\" }"
   ]
  },
  {
   "cell_type": "code",
   "execution_count": 17,
   "id": "8b815da1-b528-4e66-a3d2-34894c812d94",
   "metadata": {},
   "outputs": [
    {
     "name": "stdout",
     "output_type": "stream",
     "text": [
      "Product Name: Wireless Mouse\n",
      "SKU: WM-12345\n"
     ]
    }
   ],
   "source": [
    "# Create a dictionary with product details\n",
    "product_info = {\n",
    "    \"product_name\": \"Wireless Mouse\",\n",
    "    \"SKU\": \"WM-12345\",\n",
    "    \"price\": 25.99,\n",
    "    \"category\": \"Electronics\"\n",
    "}\n",
    "\n",
    "# Creating Function to get product details\n",
    "def get_product_details():\n",
    "    #printing value using keys\n",
    "    print(f\"Product Name: {product_info['product_name']}\")  \n",
    "    print(f\"SKU: {product_info['SKU']}\")\n",
    "\n",
    "#calling function to get product deatils\n",
    "get_product_details()\n",
    "\n",
    "#another way to solve\n",
    "\n",
    "#using input function so that customer representative can enter details which she/he wants\n",
    "\n",
    "#key = input(\"Enter the product detail you want to know (product_name/SKU/price/category): \").strip()\n",
    "\n",
    "#display result\n",
    "#print(product_info.get(key, \"Invalid key. Please try again.\"))"
   ]
  },
  {
   "cell_type": "markdown",
   "id": "cde970cf-6c08-4718-8dd1-6be00e47380d",
   "metadata": {},
   "source": []
  },
  {
   "cell_type": "markdown",
   "id": "fe969147-24b7-4e01-8a67-d9758d316785",
   "metadata": {},
   "source": [
    "Task 5: Stock Level Alert System\n",
    "\n",
    "Objective: Ensuring that stock levels are maintained is critical to avoid stockouts.\n",
    "\n",
    "Ø Write the code that takes the stock level as input.\n",
    "\n",
    "Ø  If stock is below a certain threshold, print a \"Reorder Now\" alert. If stock is above the threshold, print \"Stock is sufficient.\"\n",
    "\n",
    "· Sample Input\n",
    "\n",
    "Stock Level: 10                                       Threshold: 20\n",
    "\n",
    " \n",
    "\n",
    " \n",
    "\n",
    "· Sample Output\n",
    "\n",
    "         Enter stock level: 10     \n",
    "\n",
    "          Reorder Now                                     \n",
    "\n",
    "                                                                                     OR\n",
    "\n",
    "         Enter stock level: 25\n",
    "\n",
    "         Stock is sufficient"
   ]
  },
  {
   "cell_type": "code",
   "execution_count": 13,
   "id": "26cd0b7a-c4c9-46aa-bc78-826c0a22e5bb",
   "metadata": {},
   "outputs": [
    {
     "name": "stdin",
     "output_type": "stream",
     "text": [
      "Enter stock level 20\n"
     ]
    },
    {
     "name": "stdout",
     "output_type": "stream",
     "text": [
      "stock is sufficient\n"
     ]
    }
   ],
   "source": [
    "Threshold = 20\n",
    "stock_level = int(input(\"Enter stock level\"))\n",
    "if stock_level >= Threshold:    #Entered (= )as well because it will not respond if user enters stock level 20\n",
    "    print( \"stock is sufficient\")\n",
    "elif stock_level < Threshold:\n",
    "    print( \"reorder now\")\n",
    "    "
   ]
  },
  {
   "cell_type": "markdown",
   "id": "30530fac-be54-4de0-bd1b-4ff10ac77329",
   "metadata": {},
   "source": []
  },
  {
   "cell_type": "markdown",
   "id": "42f72240-f9d0-49ec-8b2c-beb288f0913b",
   "metadata": {},
   "source": [
    "Task 6: Sales Report Formatting\n",
    "\n",
    "Objective: Formatting the sales data for management reports is crucial.\n",
    "\n",
    "Ø Given a list of products sold, print each product name in uppercase for better visibility in reports.\n",
    "\n",
    "Ø Implement both a `for` loop and a `while` loop for this task to ensure code flexibility.\n",
    "\n",
    " \n",
    "\n",
    "· Sample Input\n",
    "\n",
    "products_sold = [\"laptop\", \"mouse\", \"keyboard\", \"monitor\", \"printer\"]\n",
    "\n",
    " \n",
    "\n",
    "· Sample Output\n",
    "\n",
    "        WIRELESS MOUSE\n",
    "\n",
    "         KEYBOARD\n",
    "\n",
    "         HEADPHONES\n",
    "\n",
    "         MONITOR\n",
    "\n",
    "         LAPTOP"
   ]
  },
  {
   "cell_type": "code",
   "execution_count": 20,
   "id": "ea89d8cf-2910-45e6-adf1-deee3d7ad86f",
   "metadata": {},
   "outputs": [
    {
     "name": "stdout",
     "output_type": "stream",
     "text": [
      "LAPTOP\n",
      "MOUSE\n",
      "KEYBOARD\n",
      "MONITOR\n",
      "PRINTER\n"
     ]
    }
   ],
   "source": [
    "products_sold = [\"laptop\", \"mouse\", \"keyboard\", \"monitor\", \"printer\"]\n",
    "for product in products_sold:  #using for loop\n",
    "    print( product.upper())"
   ]
  },
  {
   "cell_type": "code",
   "execution_count": 24,
   "id": "f5a20b5c-820a-4d68-b2dd-3669a1b62b9e",
   "metadata": {},
   "outputs": [
    {
     "name": "stdout",
     "output_type": "stream",
     "text": [
      "LAPTOP\n",
      "MOUSE\n",
      "KEYBOARD\n",
      "MONITOR\n",
      "PRINTER\n"
     ]
    }
   ],
   "source": [
    "i = 0 #using while loop\n",
    "while i < len(products_sold):\n",
    "    print(products_sold[i].upper())\n",
    "    i += 1\n"
   ]
  },
  {
   "cell_type": "markdown",
   "id": "11e3ff46-2ad8-4a46-a9ba-972f02d22b5c",
   "metadata": {},
   "source": []
  },
  {
   "cell_type": "markdown",
   "id": "d82630f5-5a09-43ee-bee5-81d96971d00d",
   "metadata": {},
   "source": [
    "Task 7: Area Calculation for Store Layout\n",
    "\n",
    "Objective: Accurate area calculations are needed to plan new store layouts.\n",
    "\n",
    "Ø Create a function that calculates the area of a section of the store based on length and width.\n",
    "\n",
    "Ø Use this function to calculate and print the area of several store sections.\n",
    "\n",
    " \n",
    "\n",
    "· Sample Input\n",
    "\n",
    " def main():\n",
    "\n",
    "  length1, width1 = 20, 15\n",
    "\n",
    " print(f\"The area of section 1 is {calculate_area(length1, width1)}  square meters.\")\n",
    "\n",
    " \n",
    "\n",
    "· Sample Output\n",
    "\n",
    "         The area of section 1 is 300 square meters."
   ]
  },
  {
   "cell_type": "code",
   "execution_count": 29,
   "id": "9f87dfd9-a349-4ee5-aaeb-20fb0cbbff53",
   "metadata": {},
   "outputs": [
    {
     "name": "stdout",
     "output_type": "stream",
     "text": [
      "The area of section 1 is 300 square meters.\n",
      "The area of section 2 is 200 square meters.\n",
      "The area of section 1 is 400 square meters.\n"
     ]
    }
   ],
   "source": [
    "def calculate_area(length, width):   #define the function and return\n",
    "    return length * width\n",
    "    \n",
    "\n",
    "def main():\n",
    "    \n",
    "    #calculating the area of section 1\n",
    "    length1, width1 = 20, 15\n",
    "    print(f\"The area of section 1 is {calculate_area(length1, width1)} square meters.\")\n",
    "    #calculating the area of section 2\n",
    "    length2, width2 = 20, 10\n",
    "    print(f\"The area of section 2 is {calculate_area(length2, width2)} square meters.\")\n",
    "    #calculating the area of section 3\n",
    "    length3, width3 = 20, 20\n",
    "    print(f\"The area of section 1 is {calculate_area(length3, width3)} square meters.\")\n",
    "main()"
   ]
  },
  {
   "cell_type": "code",
   "execution_count": 21,
   "id": "61c36ceb-4c44-49ea-abdf-a077dcc5a64d",
   "metadata": {},
   "outputs": [
    {
     "name": "stdout",
     "output_type": "stream",
     "text": [
      "The area of the section1 is 300 square meters.\n",
      "The area of the section2 is 200 square meters.\n",
      "The area of the section3 is 400 square meters.\n"
     ]
    }
   ],
   "source": [
    "#using lambda function\n",
    "calculate_area = lambda length, width: length * width  \n",
    "\n",
    "print(f\"The area of the section1 is {calculate_area(20, 15)} square meters.\")\n",
    "print(f\"The area of the section2 is {calculate_area(20, 10)} square meters.\")\n",
    "print(f\"The area of the section3 is {calculate_area(20, 20)} square meters.\")\n",
    "\n"
   ]
  },
  {
   "cell_type": "code",
   "execution_count": null,
   "id": "3eba4748-4dda-453b-97c7-ce97268e76bc",
   "metadata": {},
   "outputs": [],
   "source": []
  },
  {
   "cell_type": "markdown",
   "id": "b1f0311b-8e67-456a-a0d8-3f6df090596c",
   "metadata": {},
   "source": [
    "Task 8: Customer Feedback Analysis\n",
    "\n",
    "Objective: Analyzing customer feedback is vital to improving service.\n",
    "\n",
    "· Write the code to count the number of vowels in a customer feedback message.\n",
    "\n",
    "·  Also, reverse the feedback message for a unique data presentation in reports.\n",
    "\n",
    " \n",
    "\n",
    "· Sample Input\n",
    "\n",
    "        \"I loved the fast and friendly service!\"\n",
    "\n",
    "· Sample Output\n",
    "\n",
    "         Customer Feedback Analysis:\n",
    "\n",
    "         Original Feedback: The service was excellent and very quick!\n",
    "\n",
    "         Number of Vowels: 13\n",
    "\n",
    "         Reversed Feedback: !kciuq yrev dna tnellecxe saw ecivres ehT"
   ]
  },
  {
   "cell_type": "code",
   "execution_count": 33,
   "id": "fbf37f92-f04f-43eb-b4ad-392d039a33e6",
   "metadata": {},
   "outputs": [
    {
     "name": "stdin",
     "output_type": "stream",
     "text": [
      "Enter customer feedback:  The service was excellent and very quick!\n"
     ]
    },
    {
     "name": "stdout",
     "output_type": "stream",
     "text": [
      "\n",
      "Customer Feedback Analysis:\n",
      "Original Feedback: The service was excellent and very quick!\n",
      "Number of Vowels: 12\n",
      "Reversed Feedback: !kciuq yrev dna tnellecxe saw ecivres ehT\n"
     ]
    }
   ],
   "source": [
    "# Get user input for feedback message\n",
    "feedback = input(\"Enter customer feedback: \")\n",
    "\n",
    "# Initialize vowel count\n",
    "vowel_count = 0\n",
    "vowels = \"aeiouAEIOU\"\n",
    "\n",
    "# Loop through each character to count vowels\n",
    "for char in feedback:\n",
    "    if char in vowels:\n",
    "        vowel_count += 1 # Increments count if character is a vowel\n",
    "        \n",
    "\n",
    "# using the reversed function\n",
    "    reversed_feedback = \"\".join(reversed(feedback))\n",
    "\n",
    "# Print the results\n",
    "print(\"\\nCustomer Feedback Analysis:\")\n",
    "print(\"Original Feedback:\", feedback)\n",
    "print(\"Number of Vowels:\", vowel_count)\n",
    "print(\"Reversed Feedback:\", reversed_feedback)\n",
    "\n",
    "\n"
   ]
  },
  {
   "cell_type": "markdown",
   "id": "726212a9-143c-4d51-9e15-1402c42c9044",
   "metadata": {},
   "source": [
    "Task 9: Price Filtering Tool\n",
    "\n",
    "Objective: Filtering product prices helps in creating targeted discounts.\n",
    "\n",
    "Ø Use list comprehension to filter out products priced below a certain threshold from the product list.\n",
    "\n",
    "Ø Print the list of eligible products for a discount campaign.\n",
    "\n",
    " \n",
    "\n",
    "· Sample Input\n",
    "\n",
    "        product_prices = [150, 85, 300, 120, 45, 200]\n",
    "\n",
    "        Discount Threshold: 100\n",
    "\n",
    " \n",
    "\n",
    "· Sample Output\n",
    "\n",
    "        Products eligible for the discount campaign: [85, 45]"
   ]
  },
  {
   "cell_type": "code",
   "execution_count": 103,
   "id": "3cbbfcf8-ef08-46b6-8a93-e98a57315550",
   "metadata": {},
   "outputs": [
    {
     "name": "stdout",
     "output_type": "stream",
     "text": [
      " List of eligible product for discount campaign: [85, 45]\n"
     ]
    }
   ],
   "source": [
    "product_prices = [150, 85, 300, 120, 45, 200]\n",
    "Discount_Threshold = 100\n",
    "Products_eligible = [ item for item in product_prices if item <Discount_Threshold]  #[expression for item in iterable if condition]\n",
    "print (f\" List of eligible product for discount campaign: {Products_eligible}\")\n"
   ]
  },
  {
   "cell_type": "code",
   "execution_count": null,
   "id": "1be04734-1355-4c23-9428-d3abca98ef35",
   "metadata": {},
   "outputs": [],
   "source": []
  },
  {
   "cell_type": "markdown",
   "id": "6b87fe20-bd0b-4af0-8b64-d3ed0c94e512",
   "metadata": {},
   "source": [
    "\n",
    "Task 10: Sales Log File Management\n",
    "\n",
    "Objective: Proper management of sales log files is necessary for compliance and audit purposes.\n",
    "\n",
    "Ø Create a text file named `sales_log.txt` to store daily sales summaries.\n",
    "\n",
    "Ø Write two lines summarizing the daily sales performance.\n",
    "\n",
    "Ø Read and print the content of the file to ensure data integrity.\n",
    "\n",
    " \n",
    "\n",
    "· Sample Input\n",
    "\n",
    "        Daily Sales Summary Line 1: \"Total sales today: $12,345.\"\n",
    "\n",
    "        Daily Sales Summary Line 2: \"Number of transactions: 123.\"\n",
    "\n",
    " \n",
    "\n",
    "· Sample Output\n",
    "\n",
    "        Content of 'sales_log.txt':\n",
    "\n",
    "        Total sales today: $12,345.\n",
    "\n",
    "        Number of transactions: 123."
   ]
  },
  {
   "cell_type": "code",
   "execution_count": 1,
   "id": "68237c55-1436-4de8-a7b3-51f5ec642bbc",
   "metadata": {},
   "outputs": [
    {
     "name": "stdout",
     "output_type": "stream",
     "text": [
      "Content of 'sales_log.txt':\n",
      "\n",
      "Total sales today: $12,345.\n",
      "Number of transactions: 123.\n",
      "\n"
     ]
    }
   ],
   "source": [
    "# Create a text file name sales_log.txt\n",
    "with open(\"sales_log.txt\", \"w\") as file:\n",
    "    file.write(\"Total sales today: $12,345.\\n\")   #writing in text file\n",
    "    file.write(\"Number of transactions: 123.\\n\")\n",
    "\n",
    "\n",
    "with open(\"sales_log.txt\", \"r\") as file:    # opening file sales_log.txt to read\n",
    "    content = file.read()\n",
    "    print(\"Content of 'sales_log.txt':\\n\")\n",
    "    print(content)         #printing the content of file"
   ]
  },
  {
   "cell_type": "markdown",
   "id": "d58181fd-f1e5-46d7-bb29-a217052af714",
   "metadata": {},
   "source": []
  },
  {
   "cell_type": "markdown",
   "id": "3e8cffc1-f8c0-47a9-a8ab-97c18a4c3a7d",
   "metadata": {},
   "source": [
    "Task 11: Daily Sales Average\n",
    "\n",
    "Objective: Calculate the average daily sales for the past week.\n",
    "\n",
    "Ø Given a list of sales figures for the last 7 days, calculate the average sales.\n",
    "\n",
    "Ø Print the average sales to help the finance team understand the weekly performance.\n",
    "\n",
    " \n",
    "\n",
    "· Sample Input\n",
    "\n",
    "        daily_sales = [1200, 1500, 1100, 1800, 1700, 1600, 1400]\n",
    "\n",
    "· Sample Output\n",
    "\n",
    "       Average Daily Sales for the Past Week: $1471.43"
   ]
  },
  {
   "cell_type": "code",
   "execution_count": 43,
   "id": "8729e73b-a0c5-4cf8-ad9b-5349fddfdabf",
   "metadata": {},
   "outputs": [
    {
     "name": "stdout",
     "output_type": "stream",
     "text": [
      "Average Daily Sales for the Past Week: $1471.43\n"
     ]
    }
   ],
   "source": [
    "\n",
    "daily_sales = [1200, 1500, 1100, 1800, 1700, 1600, 1400]\n",
    "\n",
    "total_sales = sum(daily_sales)  # Sum of all sales using sum function\n",
    "days = len(daily_sales)  # Number of days using length function of list\n",
    "average_sales = total_sales /days \n",
    "\n",
    "# Printing the average sales\n",
    "print(f\"Average Daily Sales for the Past Week: ${average_sales:.2f}\")  #.2f is used to get value upto 2 decimal"
   ]
  },
  {
   "cell_type": "markdown",
   "id": "e81e4166-8447-4fd0-83b1-e68a284550a5",
   "metadata": {},
   "source": []
  },
  {
   "cell_type": "markdown",
   "id": "eac89416-8be9-4e35-b268-229294a527d0",
   "metadata": {},
   "source": [
    "Task 12: Customer Segmentation\n",
    "\n",
    "Objective: Categorize customers based on their total spending.\n",
    "\n",
    "Ø Create a list of customer spending amounts.\n",
    "\n",
    "Ø Use a loop to categorize customers as \"Low\", \"Medium\", or \"High\" spenders based on their spending amount.\n",
    "\n",
    "Ø Print the categorized results to assist in targeted marketing.\n",
    "\n",
    " \n",
    "\n",
    "· Sample Input\n",
    "\n",
    "        Customer Categorization Criteria:\n",
    "\n",
    "        - Low: Spending < $500\n",
    "\n",
    "       - Medium: $500 <= Spending < $1500\n",
    "\n",
    "       - High: Spending >= $1500\n",
    "\n",
    " \n",
    "\n",
    "         Customer Spendings: [200, 800, 1500, 3000, 450, 1200]"
   ]
  },
  {
   "cell_type": "code",
   "execution_count": null,
   "id": "55930990-f01d-4104-9abf-ab521429b2aa",
   "metadata": {},
   "outputs": [],
   "source": [
    "Customer Spending Categories:\n",
    "\n",
    "        Customer 1: Spending = $200 -> Category: Low\n",
    "\n",
    "        Customer 2: Spending = $800 -> Category: Medium\n",
    "\n",
    "        Customer 3: Spending = $1500 -> Category: High\n",
    "\n",
    "        Customer 4: Spending = $3000 -> Category: High\n",
    "\n",
    "        Customer 5: Spending = $450 -> Category: Low\n",
    "\n",
    "        Customer 6: Spending = $1200 -> Category: Medium"
   ]
  },
  {
   "cell_type": "code",
   "execution_count": 57,
   "id": "f2f42efb-f9c9-4e1a-8adb-c9b97914862c",
   "metadata": {},
   "outputs": [
    {
     "name": "stdout",
     "output_type": "stream",
     "text": [
      "Customer Spending Categories:\n",
      "\n",
      " Customer1 : Spending = $200 -> Category :  Low\n",
      " Customer2 : Spending = $800 -> Category :  Medium\n",
      " Customer3 : Spending = $1500 -> Category :  High\n",
      " Customer4 : Spending = $3000 -> Category :  High\n",
      " Customer5 : Spending = $450 -> Category :  Low\n",
      " Customer6 : Spending = $1200 -> Category :  Medium\n"
     ]
    }
   ],
   "source": [
    "Customer_Spendings=[200, 800, 1500, 3000, 450, 1200]\n",
    "print(\"Customer Spending Categories:\\n\")\n",
    "for index, spending in enumerate(Customer_Spendings, start =1):  #using enemerate function to get index and spending value both\n",
    "    if spending< 500:\n",
    "        print (f\" Customer{index} : Spending = ${spending} -> Category :  Low\")\n",
    "    elif 500 <= spending < 1500:\n",
    "        print(f\" Customer{index} : Spending = ${spending} -> Category :  Medium\")\n",
    "    else:\n",
    "        print(f\" Customer{index} : Spending = ${spending} -> Category :  High\")\n",
    "        \n",
    "    "
   ]
  },
  {
   "cell_type": "markdown",
   "id": "7ddc440a-1196-4460-8684-1d9c8bb9f1c8",
   "metadata": {},
   "source": [
    "Task 13: Discount Calculation\n",
    "\n",
    "Objective: Automate the calculation of discounts for a promotional campaign.\n",
    "\n",
    "Ø Write a code that calculates the final price after applying a discount percentage to a product’s original price.\n",
    "\n",
    "Ø Test this function on a list of products with different discounts and print the final prices.\n",
    "\n",
    " \n",
    "\n",
    "· Sample Input\n",
    "\n",
    " \n",
    "\n",
    "products = [ {\"name\": \"Product A\", \"original_price\": 100, \"discount_percentage\": 10}, {\"name\": \"Product B\", \"original_price\": 250, \"discount_percentage\": 20}, {\"name\": \"Product C\", \"original_price\": 75, \"discount_percentage\": 15}, {\"name\": \"Product D\", \"original_price\": 150, \"discount_percentage\": 5} ]\n",
    "\n",
    " \n",
    "\n",
    "· Sample Output\n",
    "\n",
    "        Final Prices After Discounts:\n",
    "\n",
    "       Product 1: Original Price = $100, Discount = 10%, Final Price = $90.00\n",
    "\n",
    "       Product 2: Original Price = $250, Discount = 20%, Final Price = $200.00\n",
    "\n",
    "       Product 3: Original Price = $75, Discount = 15%, Final Price = $63.75\n",
    "\n",
    "       Product 4: Original Price = $150, Discount = 5%, Final Price = $142.50 "
   ]
  },
  {
   "cell_type": "code",
   "execution_count": 63,
   "id": "e9f40073-c27e-49e8-a7a5-146a22ebb5d3",
   "metadata": {},
   "outputs": [
    {
     "name": "stdout",
     "output_type": "stream",
     "text": [
      "Final Prices After Discounts:\n",
      "\n",
      "Product 1: Original Price = $100, Discount = 10%, Final Price = $90.00\n",
      "\n",
      "Product 2: Original Price = $250, Discount = 20%, Final Price = $200.00\n",
      "\n",
      "Product 3: Original Price = $75, Discount = 15%, Final Price = $63.75\n",
      "\n",
      "Product 4: Original Price = $150, Discount = 5%, Final Price = $142.50\n",
      "\n"
     ]
    }
   ],
   "source": [
    "products = [\n",
    "    {\"name\": \"Product A\", \"original_price\": 100, \"discount_percentage\": 10},\n",
    "    {\"name\": \"Product B\", \"original_price\": 250, \"discount_percentage\": 20},\n",
    "    {\"name\": \"Product C\", \"original_price\": 75, \"discount_percentage\": 15},\n",
    "    {\"name\": \"Product D\", \"original_price\": 150, \"discount_percentage\": 5}\n",
    "]\n",
    "\n",
    "print(\"Final Prices After Discounts:\\n\") \n",
    "for i, product in enumerate(products, start=1):\n",
    "    discount_amount = product[\"original_price\"] * (product[\"discount_percentage\"] / 100)  # calcluating discount amount\n",
    "    #print(discount_amount)\n",
    "    final_price = product[\"original_price\"] - discount_amount    #getting final price after subsctracting discount\n",
    "    #print as required by output along with product index using (.2f) to float value upto 2 decimal\n",
    "    print(f\"Product {i}: Original Price = ${product['original_price']}, Discount = {product['discount_percentage']}%, Final Price = ${final_price:.2f}\\n\")"
   ]
  },
  {
   "cell_type": "markdown",
   "id": "abc1d904-f4b1-4793-a45d-54a20edc44e4",
   "metadata": {},
   "source": []
  },
  {
   "cell_type": "markdown",
   "id": "d46e0b5f-55e8-4ee5-9e56-35544c35f5a7",
   "metadata": {},
   "source": [
    "Task 14: Customer Feedback Sentiment Analysis\n",
    "\n",
    "Objective: Basic sentiment analysis of customer feedback.\n",
    "\n",
    "Ø Write the Python code that checks if certain positive or negative words (e.g., \"good\", \"bad\", \"happy\", \"disappointed\") are present in customer feedback.\n",
    "\n",
    "Ø Print \"Positive\" or \"Negative\" based on the words found in the feedback.\n",
    "\n",
    " \n",
    "\n",
    "· Sample Input\n",
    "\n",
    " \n",
    "\n",
    "Customer Feedback: \"I am very happy with the service. It was a good experience!\"\n",
    "\n",
    "Positive Words: [\"good\", \"happy\", \"excellent\", \"great\"]\n",
    "\n",
    "Negative Words: [\"bad\", \"disappointed\", \"poor\", \"terrible\"]\n",
    "\n",
    "· Sample Output\n",
    "\n",
    "        Customer Feedback Sentiment: Positive"
   ]
  },
  {
   "cell_type": "code",
   "execution_count": 67,
   "id": "616cfef0-b493-414d-bad4-e59bcff9edb3",
   "metadata": {},
   "outputs": [
    {
     "name": "stdout",
     "output_type": "stream",
     "text": [
      "Customer Feedback Sentiment: Positive\n"
     ]
    }
   ],
   "source": [
    "def sentiment(feedback, positive_words, negative_words):\n",
    "    # Convert feedback to lowercase for accurate comparison \n",
    "    feedback_lower = feedback.lower()\n",
    "    \n",
    "    # checking positive & negative word\n",
    "    positive_found = any(word in feedback_lower for word in positive_words)\n",
    "    negative_found = any(word in feedback_lower for word in negative_words)\n",
    "    \n",
    "    # applying condition to check where word used in feedback is positive or negative\n",
    "    if positive_found and not negative_found:\n",
    "        print(\"Customer Feedback Sentiment: Positive\")\n",
    "    elif negative_found and not positive_found:\n",
    "        print(\"Customer Feedback Sentiment: Negative\")\n",
    "\n",
    "# Giving  Input to defined function to check sentiment\n",
    "customer_feedback = \"I am very happy with the service. It was a good experience!\"\n",
    "positive_words = [\"good\", \"happy\", \"excellent\", \"great\"]\n",
    "negative_words = [\"bad\", \"disappointed\", \"poor\", \"terrible\"]\n",
    "\n",
    "# Check sentiment and print result\n",
    "sentiment(customer_feedback, positive_words, negative_words)\n"
   ]
  },
  {
   "cell_type": "markdown",
   "id": "5e86b5f2-4f5b-4183-a9fd-1f802feee898",
   "metadata": {
    "jupyter": {
     "source_hidden": true
    }
   },
   "source": [
    "Task 15: Employee Salary Increment Calculator\n",
    "\n",
    " \n",
    "\n",
    "Objective: Calculate the salary increment for employees based on their performance rating.\n",
    "\n",
    "Ø Create a dictionary that stores employee names and their performance ratings.\n",
    "\n",
    "Ø Write the code that applies a different increment percentage based on the rating.\n",
    "\n",
    "Ø Print the updated salary for each employee.\n",
    "\n",
    " \n",
    "\n",
    "· Sample Input\n",
    "\n",
    " employees = { \"Alice\": {\"current_salary\": 50000, \"rating\": \"Excellent\"}, \"Bob\":     {\"current_salary\": 40000, \"rating\": \"Good\"}, \"Charlie\": {\"current_salary\": 45000, \"rating\": \"Average\"}, \"David\": {\"current_salary\": 35000, \"rating\": \"Poor\"} }\n",
    "\n",
    " \n",
    "\n",
    "increments = { \"Excellent\": 20, \"Good\": 15, \"Average\": 10, \"Poor\": 5 }\n",
    "\n",
    " \n",
    "\n",
    "· Sample Output\n",
    "\n",
    "        Updated Salaries After Increment:\n",
    "\n",
    "        Alice: Current Salary = $50000, Rating = Excellent, Updated Salary = $60000.00\n",
    "\n",
    "        Bob: Current Salary = $40000, Rating = Good, Updated Salary = $46000.00\n",
    "\n",
    "        Charlie: Current Salary = $45000, Rating = Average, Updated Salary = $49500.00\n",
    "\n",
    "        David: Current Salary = $35000, Rating = Poor, Updated Salary = $36750.00"
   ]
  },
  {
   "cell_type": "code",
   "execution_count": 11,
   "id": "db2bda92-949e-4946-b79a-379df2bc6fda",
   "metadata": {
    "jupyter": {
     "source_hidden": true
    }
   },
   "outputs": [
    {
     "name": "stdout",
     "output_type": "stream",
     "text": [
      "Updated Salaries After Increment:\n",
      "\n",
      "Alice: Current Salary = $50000, Rating = Excellent, Updated Salary = $60000.00\n",
      "Bob: Current Salary = $40000, Rating = Good, Updated Salary = $46000.00\n",
      "Charlie: Current Salary = $45000, Rating = Average, Updated Salary = $49500.00\n",
      "David: Current Salary = $35000, Rating = Poor, Updated Salary = $36750.00\n"
     ]
    }
   ],
   "source": [
    "employees = { \"Alice\": {\"current_salary\": 50000, \"rating\": \"Excellent\"},\n",
    "             \"Bob\":     {\"current_salary\": 40000, \"rating\": \"Good\"},\n",
    "             \"Charlie\": {\"current_salary\": 45000, \"rating\": \"Average\"},\n",
    "             \"David\": {\"current_salary\": 35000, \"rating\": \"Poor\"} }\n",
    "increments = { \"Excellent\": 20, \"Good\": 15, \"Average\": 10, \"Poor\": 5 }\n",
    "\n",
    "print(\"Updated Salaries After Increment:\\n\")\n",
    "\n",
    "for name, details in employees.items():\n",
    "    current_salary = details[\"current_salary\"]\n",
    "    rating = details[\"rating\"]\n",
    "    \n",
    "    # Using .get() to fetch rating values\n",
    "    increment_percentage = increments.get(rating, 0)  \n",
    "    \n",
    "    # Calculate updated salary\n",
    "    updated_salary = current_salary + (current_salary * increment_percentage / 100)\n",
    "    \n",
    "    print(f\"{name}: Current Salary = ${current_salary}, Rating = {rating}, Updated Salary = ${updated_salary:.2f}\")"
   ]
  },
  {
   "cell_type": "raw",
   "id": "b6388b5c-c808-4eee-9393-d9538fe233df",
   "metadata": {},
   "source": [
    "Monthly Sales Report Generator\n",
    "\n",
    " \n",
    "\n",
    "Objective: Generate a simple text-based monthly sales report.\n",
    "\n",
    "Ø Create a list of daily sales figures for a month.\n",
    "\n",
    "Ø Calculate the total and average sales for the month.\n",
    "\n",
    "Ø Write these statistics to a text file named monthly_report.txt.\n",
    "\n",
    " \n",
    "\n",
    "· Sample Input\n",
    "\n",
    "daily_sales = [ 200, 250, 300, 400, 350, 500, 450, 300, 250, 400, 200, 300, 450, 500, 400, 250, 350, 300, 450, 400, 250, 300, 200, 400, 350, 300, 500, 450, 300, 250 ]\n",
    "\n",
    " \n",
    "\n",
    "· Sample Output\n",
    "\n",
    "        Monthly Sales Report\n",
    "\n",
    "         ---------------------\n",
    "\n",
    "        Total Sales: $10500                                 Average Daily Sales: $350.00"
   ]
  },
  {
   "cell_type": "code",
   "execution_count": 13,
   "id": "c66e0d81-b17b-4845-a1d6-142e7c6f8bdd",
   "metadata": {},
   "outputs": [
    {
     "name": "stdout",
     "output_type": "stream",
     "text": [
      "Sales report generated successfully!\n"
     ]
    }
   ],
   "source": [
    "\n",
    "daily_sales = [200, 250, 300, 400, 350, 500, 450, 300, 250, 400, 200, 300, 450, 500, \n",
    "               400, 250, 350, 300, 450, 400, 250, 300, 200, 400, 350, 300, 500, 450, \n",
    "               300, 250]\n",
    "\n",
    "# Calculate total using sum function\n",
    "total_sales = sum(daily_sales)\n",
    "#calculate average\n",
    "average_sales = total_sales / len(daily_sales)\n",
    "\n",
    "# writed report content\n",
    "report_content = f\"Monthly Sales Report\\n---------------------\\nTotal Sales: ${total_sales}\\nAverage Daily Sales: ${average_sales:.2f}\"\n",
    "\n",
    "# Write to file monthly_report.txt\n",
    "with open(\"monthly_report.txt\", \"w\") as file:\n",
    "    file.write(report_content)\n",
    "\n",
    "print(\"Sales report generated successfully!\")\n"
   ]
  },
  {
   "cell_type": "raw",
   "id": "f40ab5ed-673e-43b4-9416-3a2dd73b6a9e",
   "metadata": {},
   "source": [
    "Task 17: Stock Replenishment Planning\n",
    "\n",
    " \n",
    "\n",
    "Objective: Determine which products need replenishment based on sales data.\n",
    "\n",
    "Ø Given a list of products and their current stock levels, compare these against a predefined threshold.\n",
    "\n",
    "Ø Print a list of products that need to be reordered to maintain adequate stock levels.\n",
    "\n",
    " \n",
    "\n",
    "· Sample Input\n",
    "\n",
    "products = [ {\"product_name\": \"Product A\", \"stock\": 50}, {\"product_name\": \"Product B\", \"stock\": 150}, {\"product_name\": \"Product C\", \"stock\": 30}, {\"product_name\": \"Product D\", \"stock\": 75}, {\"product_name\": \"Product E\", \"stock\": 20} ]\n",
    "\n",
    "threshold = 40\n",
    "\n",
    " \n",
    "\n",
    "· Sample Output\n",
    "\n",
    "        Products that need replenishment:\n",
    "\n",
    "        Product C\n",
    "\n",
    "        Product E"
   ]
  },
  {
   "cell_type": "code",
   "execution_count": 7,
   "id": "2bdd1550-d604-4dd4-bdf3-dec1d1b38e46",
   "metadata": {},
   "outputs": [
    {
     "name": "stdout",
     "output_type": "stream",
     "text": [
      "['Product C', 'Product E']\n",
      "Products that need replenishment:\n",
      "\n",
      "Product C\n",
      "\n",
      "Product E\n",
      "\n"
     ]
    }
   ],
   "source": [
    "\n",
    "products = [\n",
    "    {\"product_name\": \"Product A\", \"stock\": 50},\n",
    "    {\"product_name\": \"Product B\", \"stock\": 150},\n",
    "    {\"product_name\": \"Product C\", \"stock\": 30},\n",
    "    {\"product_name\": \"Product D\", \"stock\": 75},\n",
    "    {\"product_name\": \"Product E\", \"stock\": 20}]\n",
    "\n",
    "threshold = 40\n",
    "\n",
    "# Using list comprehenssion [expression for item in iterable if condition]\n",
    "reorder_list = [product[\"product_name\"] for product in products if product[\"stock\"] < threshold]\n",
    "#print(reorder_list)\n",
    "\n",
    "# print\n",
    "print(\"Products that need replenishment:\\n\")\n",
    "for product in reorder_list:\n",
    "    print(f\"{product}\\n\")\n"
   ]
  },
  {
   "cell_type": "code",
   "execution_count": null,
   "id": "56b4fbcb-6bc6-4ce8-98cf-5eb9aec5efdd",
   "metadata": {},
   "outputs": [],
   "source": [
    "Data Cleaning Utility\n",
    "\n",
    " \n",
    "\n",
    "Objective: Create a utility to clean customer names for better data consistency.\n",
    "\n",
    "Ø Write the code that takes a list of customer names with extra spaces and inconsistent capitalization.\n",
    "\n",
    "Ø Clean the names by trimming spaces and standardizing the capitalization (e.g., \"JOHN DOE\" -> \"John Doe\").\n",
    "\n",
    "Ø Print the cleaned names for database entry.\n",
    "\n",
    " \n",
    "\n",
    "· Sample Input\n",
    "\n",
    "customer_names = [ \" john doe \", \" MARY SMITH \", \" aLICE JOHNSON \", \"bOB WHITE\" ]\n",
    "\n",
    " \n",
    "\n",
    "· Sample Output\n",
    "\n",
    "      Cleaned Customer Names for Database Entry:\n",
    "\n",
    "        John Doe\n",
    "\n",
    "        Mary Smith\n",
    "\n",
    "        Alice Johnson\n",
    "\n",
    "        Bob White"
   ]
  },
  {
   "cell_type": "code",
   "execution_count": 21,
   "id": "4e7ffb4c-4327-46f3-b11d-1c88958cc1fd",
   "metadata": {},
   "outputs": [
    {
     "name": "stdout",
     "output_type": "stream",
     "text": [
      "Cleaned Customer Names for Database Entry:\n",
      "\n",
      "John Doe\n",
      "Mary Smith\n",
      "Alice Johnson\n",
      "Bob White\n"
     ]
    }
   ],
   "source": [
    "\n",
    "customer_names = [\" john doe \", \" MARY SMITH \", \" aLICE JOHNSON \", \"bOB WHITE\"]\n",
    "\n",
    "#applying title() to get First charater of world in capital letter\n",
    "# The strip() to removes leading and trailing whitespace\n",
    "\n",
    "cleaned_names = [name.strip().title() for name in customer_names] \n",
    "# Print cleaned names\n",
    "print(\"Cleaned Customer Names for Database Entry:\\n\")\n",
    "for name in cleaned_names:\n",
    "    print(name)\n"
   ]
  },
  {
   "cell_type": "raw",
   "id": "45df33d0-5ae8-4203-82de-a751e74a46d8",
   "metadata": {},
   "source": [
    "Task 19: Simple Sales Forecasting\n",
    "\n",
    " \n",
    "\n",
    "Objective: Implement a basic forecasting model for next month’s sales.\n",
    "\n",
    "Ø Based on the average sales of the last 3 months, predict next month’s sales using a simple average.\n",
    "\n",
    "Ø Print the forecasted sales figures for budget planning.\n",
    "\n",
    " \n",
    "\n",
    "· Sample Input\n",
    "\n",
    "Def main():\n",
    "\n",
    "sales_last_3_months = [20000, 22000, 25000]\n",
    "\n",
    " \n",
    "\n",
    "· Sample Output\n",
    "\n",
    "        Forecasted Sales for Next Month: $12950.00\n",
    "\n"
   ]
  },
  {
   "cell_type": "code",
   "execution_count": null,
   "id": "beb66f70-1592-4ed0-a832-34367d159bc3",
   "metadata": {},
   "outputs": [],
   "source": [
    "#Define sales data for the last 3 months\n",
    "sales_last_3_months = [20000, 22000, 25000]\n",
    "\n",
    "#Calculate forecasted sales = average of last 3 months\n",
    "forecasted_sales = sum(sales_last_3_months) / len(sales_last_3_months)\n",
    "\n",
    "#forecasted sales\n",
    "print(f\"Forecasted Sales for Next Month: ${forecasted_sales:.2f}\")\n"
   ]
  },
  {
   "cell_type": "markdown",
   "id": "08b1f635-087c-4517-b20b-64e7efe83932",
   "metadata": {},
   "source": [
    "Task 20: Customer Loyalty Points Calculator\n",
    "\n",
    " \n",
    "\n",
    "Objective: Calculate loyalty points for customers based on their purchases.\n",
    "\n",
    "Ø Write a code that assigns loyalty points to customers based on their total purchase amount.\n",
    "\n",
    "Ø Implement a tiered system where different spending levels earn different point multipliers.\n",
    "\n",
    "Ø Print the loyalty points for a list of customers.\n",
    "\n",
    " \n",
    "\n",
    "· Sample Input\n",
    "\n",
    "Customers and Their Total Purchases:\n",
    "\n",
    " - John Doe: $250\n",
    "\n",
    "- Jane Smith: $500\n",
    "\n",
    " - Alice Johnson: $1000\n",
    "\n",
    " - Bob White: $150\n",
    "\n",
    " \n",
    "\n",
    "· Sample Output\n",
    "\n",
    "       Customer Loyalty Points:\n",
    "\n",
    "       John Doe: $250 Purchase, Loyalty Points: 375.0\n",
    "\n",
    "       Jane Smith: $500 Purchase, Loyalty Points: 1000.0\n",
    "\n",
    "       Alice Johnson: $1000 Purchase, Loyalty Points: 2000.0\n",
    "\n",
    "       Bob White: $150 Purchase, Loyalty Points: 150.0"
   ]
  },
  {
   "cell_type": "code",
   "execution_count": 3,
   "id": "cb11f29a-1193-406d-b37d-17ccc04290aa",
   "metadata": {},
   "outputs": [
    {
     "name": "stdout",
     "output_type": "stream",
     "text": [
      "Customer Loyalty Points:\n",
      "\n",
      "John Doe: $250 Purchase, Loyalty Points: 500.00\n",
      "Jane Smith: $500 Purchase, Loyalty Points: 1000.00\n",
      "Alice Johnson: $1000 Purchase, Loyalty Points: 2000.00\n",
      "Bob White: $150 Purchase, Loyalty Points: 225.00\n"
     ]
    }
   ],
   "source": [
    "customers = {\n",
    "    \"John Doe\": 250,\n",
    "    \"Jane Smith\": 500,\n",
    "    \"Alice Johnson\": 1000,\n",
    "    \"Bob White\": 150\n",
    "}\n",
    "\n",
    "#Define a function\n",
    "def calculate_loyalty_points(purchase_amount):\n",
    "    if purchase_amount < 200:\n",
    "        multiplier = 1.5\n",
    "    elif 200 <= purchase_amount <= 500:\n",
    "        multiplier = 2\n",
    "    else:\n",
    "        multiplier = 2\n",
    "    return purchase_amount * multiplier   # returning loyalty point = amount * multiplier\n",
    "\n",
    "#Calculate and print loyalty points\n",
    "print(\"Customer Loyalty Points:\\n\")\n",
    "for customer, purchase in customers.items():\n",
    "    loyalty_points = calculate_loyalty_points(purchase)\n",
    "    print(f\"{customer}: ${purchase} Purchase, Loyalty Points: {loyalty_points:.1f}\") # getting loyalty Point upto 1 decimal\n"
   ]
  },
  {
   "cell_type": "code",
   "execution_count": null,
   "id": "ce8daabc-994c-4889-86cd-e0bfed9f8177",
   "metadata": {},
   "outputs": [],
   "source": []
  }
 ],
 "metadata": {
  "kernelspec": {
   "display_name": "Python 3 (ipykernel)",
   "language": "python",
   "name": "python3"
  },
  "language_info": {
   "codemirror_mode": {
    "name": "ipython",
    "version": 3
   },
   "file_extension": ".py",
   "mimetype": "text/x-python",
   "name": "python",
   "nbconvert_exporter": "python",
   "pygments_lexer": "ipython3",
   "version": "3.12.7"
  }
 },
 "nbformat": 4,
 "nbformat_minor": 5
}
